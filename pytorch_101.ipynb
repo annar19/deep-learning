{
  "cells": [
    {
      "cell_type": "markdown",
      "metadata": {
        "id": "view-in-github",
        "colab_type": "text"
      },
      "source": [
        "<a href=\"https://colab.research.google.com/github/annar19/deep-learning/blob/main/pytorch_101.ipynb\" target=\"_parent\"><img src=\"https://colab.research.google.com/assets/colab-badge.svg\" alt=\"Open In Colab\"/></a>"
      ]
    },
    {
      "cell_type": "markdown",
      "id": "90537f38",
      "metadata": {
        "id": "90537f38"
      },
      "source": [
        "# PyTorch 101: Basic Tensor Operations\n",
        "Welcome to PyTorch 101! In this notebook, we’ll explore PyTorch's basic tensor operations, similar to what you might already know from using NumPy. By the end of this tutorial, you’ll have a strong foundation in working with tensors in PyTorch, which is essential for any deep learning task."
      ]
    },
    {
      "cell_type": "markdown",
      "id": "37549acc",
      "metadata": {
        "id": "37549acc"
      },
      "source": [
        "## 1. Setting Up and Importing Libraries\n",
        "To get started, run the cell below to import PyTorch. We’ll also use Matplotlib to visualize data."
      ]
    },
    {
      "cell_type": "code",
      "execution_count": 1,
      "id": "71e78894",
      "metadata": {
        "colab": {
          "base_uri": "https://localhost:8080/"
        },
        "id": "71e78894",
        "outputId": "12978198-274b-4b86-def8-a678914e7a75"
      },
      "outputs": [
        {
          "output_type": "stream",
          "name": "stdout",
          "text": [
            "PyTorch version: 2.5.1+cu121\n",
            "Is CUDA available? False\n"
          ]
        }
      ],
      "source": [
        "# Import necessary libraries\n",
        "import torch\n",
        "import numpy as np\n",
        "import matplotlib.pyplot as plt\n",
        "\n",
        "# Check if PyTorch is installed correctly\n",
        "print(\"PyTorch version:\", torch.__version__)\n",
        "print(\"Is CUDA available?\", torch.cuda.is_available())"
      ]
    },
    {
      "cell_type": "markdown",
      "id": "8c93cbde",
      "metadata": {
        "id": "8c93cbde"
      },
      "source": [
        "## 2. Creating Tensors\n",
        "Tensors are the core data structure in PyTorch. Think of them as multi-dimensional arrays, similar to NumPy arrays."
      ]
    },
    {
      "cell_type": "markdown",
      "id": "5b0811ac",
      "metadata": {
        "id": "5b0811ac"
      },
      "source": [
        "### Example: Creating Tensors from Lists or NumPy Arrays"
      ]
    },
    {
      "cell_type": "code",
      "execution_count": 2,
      "id": "5a59863f",
      "metadata": {
        "colab": {
          "base_uri": "https://localhost:8080/"
        },
        "id": "5a59863f",
        "outputId": "ae7839af-ce3b-4beb-93ae-74d81e256490"
      },
      "outputs": [
        {
          "output_type": "stream",
          "name": "stdout",
          "text": [
            "Tensor from list: tensor([1, 2, 3, 4])\n",
            "Tensor from numpy array: tensor([5, 6, 7, 8])\n"
          ]
        }
      ],
      "source": [
        "# Create a tensor from a list\n",
        "tensor_from_list = torch.tensor([1, 2, 3, 4])\n",
        "print(\"Tensor from list:\", tensor_from_list)\n",
        "\n",
        "# Create a tensor from a NumPy array\n",
        "np_array = np.array([5, 6, 7, 8])\n",
        "tensor_from_np = torch.tensor(np_array)\n",
        "print(\"Tensor from numpy array:\", tensor_from_np)"
      ]
    },
    {
      "cell_type": "markdown",
      "id": "5d36f2a0",
      "metadata": {
        "id": "5d36f2a0"
      },
      "source": [
        "### Exercise 1: Create a 2x3 tensor with the numbers 1 through 6."
      ]
    },
    {
      "cell_type": "code",
      "execution_count": 4,
      "id": "6606a8dc",
      "metadata": {
        "colab": {
          "base_uri": "https://localhost:8080/"
        },
        "id": "6606a8dc",
        "outputId": "a875241f-1899-4fcb-b25c-aa759a7442ea"
      },
      "outputs": [
        {
          "output_type": "stream",
          "name": "stdout",
          "text": [
            "2x3 tensor:\n",
            " tensor([[1, 2, 3],\n",
            "        [4, 5, 6]])\n"
          ]
        }
      ],
      "source": [
        "# Your code here\n",
        "my_tensor = torch.tensor([[1,2,3],[4,5,6]])\n",
        "print(\"2x3 tensor:\\n\", my_tensor)"
      ]
    },
    {
      "cell_type": "markdown",
      "id": "e957ef01",
      "metadata": {
        "id": "e957ef01"
      },
      "source": [
        "## 3. Tensor Types and Attributes\n",
        "Each tensor has attributes such as `dtype`, `shape`, and `device`. Understanding these attributes is crucial for managing tensors."
      ]
    },
    {
      "cell_type": "code",
      "execution_count": 5,
      "id": "30e0ae1f",
      "metadata": {
        "colab": {
          "base_uri": "https://localhost:8080/"
        },
        "id": "30e0ae1f",
        "outputId": "bf6166bc-1ad9-4203-e17c-e1013c5fc89a"
      },
      "outputs": [
        {
          "output_type": "stream",
          "name": "stdout",
          "text": [
            "Data type: torch.float32\n",
            "Shape: torch.Size([2, 2])\n",
            "Device: cpu\n"
          ]
        }
      ],
      "source": [
        "# Example tensor\n",
        "example_tensor = torch.tensor([[1.0, 2.0], [3.0, 4.0]])\n",
        "\n",
        "print(\"Data type:\", example_tensor.dtype)\n",
        "print(\"Shape:\", example_tensor.shape)\n",
        "print(\"Device:\", example_tensor.device)"
      ]
    },
    {
      "cell_type": "markdown",
      "id": "494218c7",
      "metadata": {
        "id": "494218c7"
      },
      "source": [
        "### Exercise 2: Create a 3x3 float tensor with all values set to 0.0, then check its attributes."
      ]
    },
    {
      "cell_type": "code",
      "execution_count": 9,
      "id": "66b26617",
      "metadata": {
        "colab": {
          "base_uri": "https://localhost:8080/"
        },
        "id": "66b26617",
        "outputId": "8fbea576-74a2-4837-8ef1-2f2413a1ceb3"
      },
      "outputs": [
        {
          "output_type": "stream",
          "name": "stdout",
          "text": [
            "3x3 tensor:\n",
            " tensor([[0., 0., 0.],\n",
            "        [0., 0., 0.],\n",
            "        [0., 0., 0.]])\n",
            "Data type: torch.float32\n",
            "Shape: torch.Size([3, 3])\n"
          ]
        }
      ],
      "source": [
        "# Your code here\n",
        "zero_tensor = torch.zeros(3, 3)\n",
        "print(\"3x3 tensor:\\n\", zero_tensor)\n",
        "print(\"Data type:\", zero_tensor.dtype)\n",
        "print(\"Shape:\", zero_tensor.shape)"
      ]
    },
    {
      "cell_type": "markdown",
      "id": "2c97e0dc",
      "metadata": {
        "id": "2c97e0dc"
      },
      "source": [
        "## 4. Basic Tensor Operations\n",
        "Just like in NumPy, you can perform mathematical operations on tensors."
      ]
    },
    {
      "cell_type": "markdown",
      "id": "ef710152",
      "metadata": {
        "id": "ef710152"
      },
      "source": [
        "### Example: Basic Arithmetic Operations"
      ]
    },
    {
      "cell_type": "code",
      "execution_count": 10,
      "id": "a73e9473",
      "metadata": {
        "colab": {
          "base_uri": "https://localhost:8080/"
        },
        "id": "a73e9473",
        "outputId": "25054bd8-244b-4411-bc52-d5168d932fe5"
      },
      "outputs": [
        {
          "output_type": "stream",
          "name": "stdout",
          "text": [
            "Addition: tensor([5, 7, 9])\n",
            "Subtraction: tensor([-3, -3, -3])\n",
            "Multiplication: tensor([ 4, 10, 18])\n",
            "Division: tensor([0.2500, 0.4000, 0.5000])\n"
          ]
        }
      ],
      "source": [
        "a = torch.tensor([1, 2, 3])\n",
        "b = torch.tensor([4, 5, 6])\n",
        "\n",
        "print(\"Addition:\", a + b)\n",
        "print(\"Subtraction:\", a - b)\n",
        "print(\"Multiplication:\", a * b)\n",
        "print(\"Division:\", a / b)"
      ]
    },
    {
      "cell_type": "markdown",
      "id": "e49e286d",
      "metadata": {
        "id": "e49e286d"
      },
      "source": [
        "### Exercise 3: Create two 3x3 tensors and perform element-wise addition, subtraction, and multiplication."
      ]
    },
    {
      "cell_type": "code",
      "execution_count": 11,
      "id": "1e14f15a",
      "metadata": {
        "colab": {
          "base_uri": "https://localhost:8080/"
        },
        "id": "1e14f15a",
        "outputId": "b7df2acd-14b6-4320-c360-45dbdcf2a66a"
      },
      "outputs": [
        {
          "output_type": "stream",
          "name": "stdout",
          "text": [
            "Addition:\n",
            " tensor([ 5,  9, 12])\n",
            "Subtraction:\n",
            " tensor([ 1, -1, -2])\n",
            "Multiplication:\n",
            " tensor([ 6, 20, 35])\n"
          ]
        }
      ],
      "source": [
        "# Your code here\n",
        "tensor_a = torch.tensor([3,4,5])\n",
        "tensor_b = torch.tensor([2,5,7])\n",
        "\n",
        "# Perform operations\n",
        "print(\"Addition:\\n\", tensor_a + tensor_b)\n",
        "print(\"Subtraction:\\n\", tensor_a - tensor_b)\n",
        "print(\"Multiplication:\\n\", tensor_a * tensor_b)"
      ]
    },
    {
      "cell_type": "markdown",
      "id": "77e229a5",
      "metadata": {
        "id": "77e229a5"
      },
      "source": [
        "## 5. Matrix Multiplication\n",
        "Matrix multiplication is essential in neural networks. PyTorch provides several ways to perform it."
      ]
    },
    {
      "cell_type": "code",
      "execution_count": 12,
      "id": "b0091357",
      "metadata": {
        "colab": {
          "base_uri": "https://localhost:8080/"
        },
        "id": "b0091357",
        "outputId": "44810834-37ba-4a3a-86b2-cb2ac8ca348f"
      },
      "outputs": [
        {
          "output_type": "stream",
          "name": "stdout",
          "text": [
            "Matrix multiplication result:\n",
            " tensor([[ 58,  64],\n",
            "        [139, 154]])\n"
          ]
        }
      ],
      "source": [
        "# 2x3 tensor\n",
        "matrix_a = torch.tensor([[1, 2, 3], [4, 5, 6]])\n",
        "# 3x2 tensor\n",
        "matrix_b = torch.tensor([[7, 8], [9, 10], [11, 12]])\n",
        "\n",
        "result = torch.matmul(matrix_a, matrix_b)\n",
        "print(\"Matrix multiplication result:\\n\", result)"
      ]
    },
    {
      "cell_type": "markdown",
      "id": "e4fee3be",
      "metadata": {
        "id": "e4fee3be"
      },
      "source": [
        "### Exercise 4: Create a 2x3 and a 3x2 tensor, then perform matrix multiplication."
      ]
    },
    {
      "cell_type": "code",
      "execution_count": 15,
      "id": "83c42408",
      "metadata": {
        "colab": {
          "base_uri": "https://localhost:8080/"
        },
        "id": "83c42408",
        "outputId": "8dfc045a-fe06-4047-9049-328b03f038ef"
      },
      "outputs": [
        {
          "output_type": "stream",
          "name": "stdout",
          "text": [
            "Matrix multiplication result:\n",
            " tensor([[118, 172],\n",
            "        [139, 204]])\n"
          ]
        }
      ],
      "source": [
        "# Your code here\n",
        "matrix_a = torch.tensor([[7,4,3],[4,5,6]])\n",
        "matrix_b = torch.tensor([[7,8],[9,20],[11,12]])\n",
        "\n",
        "# Perform matrix multiplication\n",
        "result = torch.matmul(matrix_a, matrix_b)\n",
        "print(\"Matrix multiplication result:\\n\", result)"
      ]
    },
    {
      "cell_type": "markdown",
      "id": "6366f65d",
      "metadata": {
        "id": "6366f65d"
      },
      "source": [
        "## 6. Tensor Reshaping\n",
        "Reshaping tensors is helpful for feeding data into neural networks, where data often needs to be resized."
      ]
    },
    {
      "cell_type": "code",
      "execution_count": 16,
      "id": "b18e6119",
      "metadata": {
        "colab": {
          "base_uri": "https://localhost:8080/"
        },
        "id": "b18e6119",
        "outputId": "d0176e20-947a-4646-9df1-e1ebf52ad5cd"
      },
      "outputs": [
        {
          "output_type": "stream",
          "name": "stdout",
          "text": [
            "Original tensor:\n",
            " tensor([[1, 2, 3],\n",
            "        [4, 5, 6]])\n",
            "Reshaped tensor:\n",
            " tensor([[1, 2],\n",
            "        [3, 4],\n",
            "        [5, 6]])\n"
          ]
        }
      ],
      "source": [
        "tensor = torch.tensor([[1, 2, 3], [4, 5, 6]])\n",
        "reshaped = tensor.view(3, 2)  # Change shape to 3x2\n",
        "print(\"Original tensor:\\n\", tensor)\n",
        "print(\"Reshaped tensor:\\n\", reshaped)"
      ]
    },
    {
      "cell_type": "markdown",
      "id": "722c8c76",
      "metadata": {
        "id": "722c8c76"
      },
      "source": [
        "### Exercise 5: Create a 1x6 tensor and reshape it into a 2x3 tensor."
      ]
    },
    {
      "cell_type": "code",
      "execution_count": 18,
      "id": "d7034110",
      "metadata": {
        "colab": {
          "base_uri": "https://localhost:8080/"
        },
        "id": "d7034110",
        "outputId": "c14da95c-e1af-4ef9-d48c-7e9273152fe7"
      },
      "outputs": [
        {
          "output_type": "stream",
          "name": "stdout",
          "text": [
            "Reshaped tensor:\n",
            " tensor([[1, 2, 3],\n",
            "        [4, 5, 6]])\n"
          ]
        }
      ],
      "source": [
        "# Your code here\n",
        "tensor = torch.tensor([[1,2,3,4,5,6]])\n",
        "reshaped_tensor = tensor.view(2,3)\n",
        "print(\"Reshaped tensor:\\n\", reshaped_tensor)"
      ]
    },
    {
      "cell_type": "markdown",
      "id": "a423eb50",
      "metadata": {
        "id": "a423eb50"
      },
      "source": [
        "## Summary\n",
        "In this notebook, you’ve explored the basics of PyTorch tensors, including creation, basic operations, matrix multiplication, and reshaping. Mastering these fundamentals will prepare you well for working with PyTorch in deep learning tasks. Keep experimenting and testing your understanding!"
      ]
    }
  ],
  "metadata": {
    "kernelspec": {
      "display_name": "Python 3 (ipykernel)",
      "language": "python",
      "name": "python3"
    },
    "language_info": {
      "codemirror_mode": {
        "name": "ipython",
        "version": 3
      },
      "file_extension": ".py",
      "mimetype": "text/x-python",
      "name": "python",
      "nbconvert_exporter": "python",
      "pygments_lexer": "ipython3",
      "version": "3.12.4"
    },
    "colab": {
      "provenance": [],
      "include_colab_link": true
    }
  },
  "nbformat": 4,
  "nbformat_minor": 5
}