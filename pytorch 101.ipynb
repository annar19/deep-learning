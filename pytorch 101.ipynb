{
 "cells": [
  {
   "cell_type": "markdown",
   "id": "90537f38",
   "metadata": {},
   "source": [
    "# PyTorch 101: Basic Tensor Operations\n",
    "Welcome to PyTorch 101! In this notebook, we’ll explore PyTorch's basic tensor operations, similar to what you might already know from using NumPy. By the end of this tutorial, you’ll have a strong foundation in working with tensors in PyTorch, which is essential for any deep learning task."
   ]
  },
  {
   "cell_type": "markdown",
   "id": "37549acc",
   "metadata": {},
   "source": [
    "## 1. Setting Up and Importing Libraries\n",
    "To get started, run the cell below to import PyTorch. We’ll also use Matplotlib to visualize data."
   ]
  },
  {
   "cell_type": "code",
   "execution_count": 4,
   "id": "71e78894",
   "metadata": {},
   "outputs": [
    {
     "ename": "ModuleNotFoundError",
     "evalue": "No module named 'torch'",
     "output_type": "error",
     "traceback": [
      "\u001b[1;31m---------------------------------------------------------------------------\u001b[0m",
      "\u001b[1;31mModuleNotFoundError\u001b[0m                       Traceback (most recent call last)",
      "Cell \u001b[1;32mIn[4], line 2\u001b[0m\n\u001b[0;32m      1\u001b[0m \u001b[38;5;66;03m# Import necessary libraries\u001b[39;00m\n\u001b[1;32m----> 2\u001b[0m \u001b[38;5;28;01mimport\u001b[39;00m \u001b[38;5;21;01mtorch\u001b[39;00m\n\u001b[0;32m      3\u001b[0m \u001b[38;5;28;01mimport\u001b[39;00m \u001b[38;5;21;01mnumpy\u001b[39;00m \u001b[38;5;28;01mas\u001b[39;00m \u001b[38;5;21;01mnp\u001b[39;00m\n\u001b[0;32m      4\u001b[0m \u001b[38;5;28;01mimport\u001b[39;00m \u001b[38;5;21;01mmatplotlib\u001b[39;00m\u001b[38;5;21;01m.\u001b[39;00m\u001b[38;5;21;01mpyplot\u001b[39;00m \u001b[38;5;28;01mas\u001b[39;00m \u001b[38;5;21;01mplt\u001b[39;00m\n",
      "\u001b[1;31mModuleNotFoundError\u001b[0m: No module named 'torch'"
     ]
    }
   ],
   "source": [
    "# Import necessary libraries\n",
    "import torch\n",
    "import numpy as np\n",
    "import matplotlib.pyplot as plt\n",
    "\n",
    "# Check if PyTorch is installed correctly\n",
    "print(\"PyTorch version:\", torch.__version__)\n",
    "print(\"Is CUDA available?\", torch.cuda.is_available())"
   ]
  },
  {
   "cell_type": "markdown",
   "id": "8c93cbde",
   "metadata": {},
   "source": [
    "## 2. Creating Tensors\n",
    "Tensors are the core data structure in PyTorch. Think of them as multi-dimensional arrays, similar to NumPy arrays."
   ]
  },
  {
   "cell_type": "markdown",
   "id": "5b0811ac",
   "metadata": {},
   "source": [
    "### Example: Creating Tensors from Lists or NumPy Arrays"
   ]
  },
  {
   "cell_type": "code",
   "execution_count": null,
   "id": "5a59863f",
   "metadata": {},
   "outputs": [],
   "source": [
    "# Create a tensor from a list\n",
    "tensor_from_list = torch.tensor([1, 2, 3, 4])\n",
    "print(\"Tensor from list:\", tensor_from_list)\n",
    "\n",
    "# Create a tensor from a NumPy array\n",
    "np_array = np.array([5, 6, 7, 8])\n",
    "tensor_from_np = torch.tensor(np_array)\n",
    "print(\"Tensor from numpy array:\", tensor_from_np)"
   ]
  },
  {
   "cell_type": "markdown",
   "id": "5d36f2a0",
   "metadata": {},
   "source": [
    "### Exercise 1: Create a 2x3 tensor with the numbers 1 through 6."
   ]
  },
  {
   "cell_type": "code",
   "execution_count": null,
   "id": "6606a8dc",
   "metadata": {},
   "outputs": [],
   "source": [
    "# Your code here\n",
    "my_tensor = torch.tensor([...])\n",
    "print(\"2x3 tensor:\\n\", my_tensor)"
   ]
  },
  {
   "cell_type": "markdown",
   "id": "e957ef01",
   "metadata": {},
   "source": [
    "## 3. Tensor Types and Attributes\n",
    "Each tensor has attributes such as `dtype`, `shape`, and `device`. Understanding these attributes is crucial for managing tensors."
   ]
  },
  {
   "cell_type": "code",
   "execution_count": null,
   "id": "30e0ae1f",
   "metadata": {},
   "outputs": [],
   "source": [
    "# Example tensor\n",
    "example_tensor = torch.tensor([[1.0, 2.0], [3.0, 4.0]])\n",
    "\n",
    "print(\"Data type:\", example_tensor.dtype)\n",
    "print(\"Shape:\", example_tensor.shape)\n",
    "print(\"Device:\", example_tensor.device)"
   ]
  },
  {
   "cell_type": "markdown",
   "id": "494218c7",
   "metadata": {},
   "source": [
    "### Exercise 2: Create a 3x3 float tensor with all values set to 0.0, then check its attributes."
   ]
  },
  {
   "cell_type": "code",
   "execution_count": null,
   "id": "66b26617",
   "metadata": {},
   "outputs": [],
   "source": [
    "# Your code here\n",
    "zero_tensor = torch.zeros(...)\n",
    "print(\"3x3 tensor:\\n\", zero_tensor)\n",
    "print(\"Data type:\", zero_tensor.dtype)\n",
    "print(\"Shape:\", zero_tensor.shape)"
   ]
  },
  {
   "cell_type": "markdown",
   "id": "2c97e0dc",
   "metadata": {},
   "source": [
    "## 4. Basic Tensor Operations\n",
    "Just like in NumPy, you can perform mathematical operations on tensors."
   ]
  },
  {
   "cell_type": "markdown",
   "id": "ef710152",
   "metadata": {},
   "source": [
    "### Example: Basic Arithmetic Operations"
   ]
  },
  {
   "cell_type": "code",
   "execution_count": null,
   "id": "a73e9473",
   "metadata": {},
   "outputs": [],
   "source": [
    "a = torch.tensor([1, 2, 3])\n",
    "b = torch.tensor([4, 5, 6])\n",
    "\n",
    "print(\"Addition:\", a + b)\n",
    "print(\"Subtraction:\", a - b)\n",
    "print(\"Multiplication:\", a * b)\n",
    "print(\"Division:\", a / b)"
   ]
  },
  {
   "cell_type": "markdown",
   "id": "e49e286d",
   "metadata": {},
   "source": [
    "### Exercise 3: Create two 3x3 tensors and perform element-wise addition, subtraction, and multiplication."
   ]
  },
  {
   "cell_type": "code",
   "execution_count": null,
   "id": "1e14f15a",
   "metadata": {},
   "outputs": [],
   "source": [
    "# Your code here\n",
    "tensor_a = torch.tensor([...])\n",
    "tensor_b = torch.tensor([...])\n",
    "\n",
    "# Perform operations\n",
    "print(\"Addition:\\n\", tensor_a + tensor_b)\n",
    "print(\"Subtraction:\\n\", tensor_a - tensor_b)\n",
    "print(\"Multiplication:\\n\", tensor_a * tensor_b)"
   ]
  },
  {
   "cell_type": "markdown",
   "id": "77e229a5",
   "metadata": {},
   "source": [
    "## 5. Matrix Multiplication\n",
    "Matrix multiplication is essential in neural networks. PyTorch provides several ways to perform it."
   ]
  },
  {
   "cell_type": "code",
   "execution_count": null,
   "id": "b0091357",
   "metadata": {},
   "outputs": [],
   "source": [
    "# 2x3 tensor\n",
    "matrix_a = torch.tensor([[1, 2, 3], [4, 5, 6]])\n",
    "# 3x2 tensor\n",
    "matrix_b = torch.tensor([[7, 8], [9, 10], [11, 12]])\n",
    "\n",
    "result = torch.matmul(matrix_a, matrix_b)\n",
    "print(\"Matrix multiplication result:\\n\", result)"
   ]
  },
  {
   "cell_type": "markdown",
   "id": "e4fee3be",
   "metadata": {},
   "source": [
    "### Exercise 4: Create a 2x3 and a 3x2 tensor, then perform matrix multiplication."
   ]
  },
  {
   "cell_type": "code",
   "execution_count": null,
   "id": "83c42408",
   "metadata": {},
   "outputs": [],
   "source": [
    "# Your code here\n",
    "matrix_a = torch.tensor([...])\n",
    "matrix_b = torch.tensor([...])\n",
    "\n",
    "# Perform matrix multiplication\n",
    "result = torch.matmul(matrix_a, matrix_b)\n",
    "print(\"Matrix multiplication result:\\n\", result)"
   ]
  },
  {
   "cell_type": "markdown",
   "id": "6366f65d",
   "metadata": {},
   "source": [
    "## 6. Tensor Reshaping\n",
    "Reshaping tensors is helpful for feeding data into neural networks, where data often needs to be resized."
   ]
  },
  {
   "cell_type": "code",
   "execution_count": null,
   "id": "b18e6119",
   "metadata": {},
   "outputs": [],
   "source": [
    "tensor = torch.tensor([[1, 2, 3], [4, 5, 6]])\n",
    "reshaped = tensor.view(3, 2)  # Change shape to 3x2\n",
    "print(\"Original tensor:\\n\", tensor)\n",
    "print(\"Reshaped tensor:\\n\", reshaped)"
   ]
  },
  {
   "cell_type": "markdown",
   "id": "722c8c76",
   "metadata": {},
   "source": [
    "### Exercise 5: Create a 1x6 tensor and reshape it into a 2x3 tensor."
   ]
  },
  {
   "cell_type": "code",
   "execution_count": null,
   "id": "d7034110",
   "metadata": {},
   "outputs": [],
   "source": [
    "# Your code here\n",
    "tensor = torch.tensor([...])\n",
    "reshaped_tensor = tensor.view(...)\n",
    "print(\"Reshaped tensor:\\n\", reshaped_tensor)"
   ]
  },
  {
   "cell_type": "markdown",
   "id": "a423eb50",
   "metadata": {},
   "source": [
    "## Summary\n",
    "In this notebook, you’ve explored the basics of PyTorch tensors, including creation, basic operations, matrix multiplication, and reshaping. Mastering these fundamentals will prepare you well for working with PyTorch in deep learning tasks. Keep experimenting and testing your understanding!"
   ]
  }
 ],
 "metadata": {
  "kernelspec": {
   "display_name": "Python 3 (ipykernel)",
   "language": "python",
   "name": "python3"
  },
  "language_info": {
   "codemirror_mode": {
    "name": "ipython",
    "version": 3
   },
   "file_extension": ".py",
   "mimetype": "text/x-python",
   "name": "python",
   "nbconvert_exporter": "python",
   "pygments_lexer": "ipython3",
   "version": "3.11.7"
  }
 },
 "nbformat": 4,
 "nbformat_minor": 5
}
